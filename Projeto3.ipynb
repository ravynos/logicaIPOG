{
  "nbformat": 4,
  "nbformat_minor": 0,
  "metadata": {
    "colab": {
      "provenance": [],
      "authorship_tag": "ABX9TyOeO4gjz5k/rRmZ45gzlh3c",
      "include_colab_link": true
    },
    "kernelspec": {
      "name": "python3",
      "display_name": "Python 3"
    },
    "language_info": {
      "name": "python"
    }
  },
  "cells": [
    {
      "cell_type": "markdown",
      "metadata": {
        "id": "view-in-github",
        "colab_type": "text"
      },
      "source": [
        "<a href=\"https://colab.research.google.com/github/ravynos/logicaIPOG/blob/main/Projeto3.ipynb\" target=\"_parent\"><img src=\"https://colab.research.google.com/assets/colab-badge.svg\" alt=\"Open In Colab\"/></a>"
      ]
    },
    {
      "cell_type": "markdown",
      "source": [
        "# Projeto de algoritimo 3"
      ],
      "metadata": {
        "id": "tACHB6NKD9HO"
      }
    },
    {
      "cell_type": "code",
      "execution_count": 81,
      "metadata": {
        "colab": {
          "base_uri": "https://localhost:8080/"
        },
        "id": "rE3gBgbnD5k2",
        "outputId": "2793a899-a9ab-4a49-f07a-a5c10a8dfdf9"
      },
      "outputs": [
        {
          "output_type": "stream",
          "name": "stdout",
          "text": [
            "Qual opção você deseja?\n",
            " 1. Categorias \n",
            " 2. Produtos \n",
            " 3. Preços \n",
            " \n",
            "3\n",
            "Veja abaixo a listagem com valor dos produtos.\n",
            "\n",
            "1. Manga:  2.90\n",
            "2. Uva:  5.99\n",
            "3. Morango:  6.99\n",
            "4. Cenoura:  0.99\n",
            "5. Abobora:  1.99\n",
            "6. Batata:  3.99\n",
            "7. Pão:  2.30\n",
            "8. Bolo:  7.90\n",
            "9. Rosca:  3.89\n",
            "10. Acém:  26.99\n",
            "11. Costela:  15.99\n",
            "12. Peito:  28.99\n"
          ]
        }
      ],
      "source": [
        "#Criando uma listagem de produtos a venda, com nome do produto, categoria e valor.\n",
        "\n",
        "tabela_produtos = [[\"Manga\", \"Uva\", \"Morango\"], [\"Cenoura\", \"Abobora\", \"Batata\"], [\"Pão\", \"Bolo\", \"Rosca\"], [\"Acém\", \"Costela\", \"Peito\"]]\n",
        "tabela_categoria = [\"Frutas\", \"Verduras e legumes\", \"Padaria\", \"Açougue\"]\n",
        "tabela_preço = [[2.9, 5.99, 6.99], [0.99, 1.99, 3.99], [2.30, 7.90, 3.89], [26.99, 15.99, 28.99]]\n",
        "menu = int(input(\"Qual opção você deseja?\\n 1. Categorias \\n 2. Produtos \\n 3. Preços \\n \\n\"))\n",
        "contador = 1\n",
        "\n",
        "if menu == 1:\n",
        "  print(\"\\nVocê escolheu categorias. \\n\")\n",
        "  for cont, prod in enumerate(tabela_produtos):\n",
        "    for indice, cat_prod in enumerate(tabela_categoria):\n",
        "      if indice == cont:\n",
        "       print(f'{cat_prod}: {prod}')\n",
        "elif menu == 2:\n",
        "  print('Veja agora a listagem de produtos.\\n')\n",
        "  for linha in range(len(tabela_produtos)):\n",
        "    for coluna in range(len(tabela_produtos[linha])):\n",
        "      print(f'{contador}: {tabela_produtos[linha][coluna]}')\n",
        "      contador += 1\n",
        "elif menu == 3:\n",
        "  print('Veja abaixo a listagem com valor dos produtos.\\n')\n",
        "  for linha in range(len(tabela_produtos)):\n",
        "    for coluna in range(len(tabela_produtos[linha])):\n",
        "        produto = tabela_produtos[linha][coluna]\n",
        "        preco = tabela_preço[linha][coluna]\n",
        "        print(f\"{contador}. {produto}: {preco: .2f}\")\n",
        "        contador += 1\n",
        "else:\n",
        "  print(\"\\n Opção indexistente\")\n"
      ]
    }
  ]
}