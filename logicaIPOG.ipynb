{
  "nbformat": 4,
  "nbformat_minor": 0,
  "metadata": {
    "colab": {
      "provenance": [],
      "authorship_tag": "ABX9TyPkq9fWAogo6HrTnDsOnYlM",
      "include_colab_link": true
    },
    "kernelspec": {
      "name": "python3",
      "display_name": "Python 3"
    },
    "language_info": {
      "name": "python"
    }
  },
  "cells": [
    {
      "cell_type": "markdown",
      "metadata": {
        "id": "view-in-github",
        "colab_type": "text"
      },
      "source": [
        "<a href=\"https://colab.research.google.com/github/ravynos/logicaIPOG/blob/main/logicaIPOG.ipynb\" target=\"_parent\"><img src=\"https://colab.research.google.com/assets/colab-badge.svg\" alt=\"Open In Colab\"/></a>"
      ]
    },
    {
      "cell_type": "markdown",
      "source": [
        "# Tipos de dados"
      ],
      "metadata": {
        "id": "aXoBF-AZCteF"
      }
    },
    {
      "cell_type": "markdown",
      "source": [
        "int = Numero inteiro  \n",
        "Float = Ponto Flutuante (Numeros com casas decimais)  \n",
        "str = Palavras (String)  \n",
        "bool = Booleanos (Verdadeiro ou Falso)  "
      ],
      "metadata": {
        "id": "9iqaLR2dC2rR"
      }
    },
    {
      "cell_type": "code",
      "source": [
        "Idade = 4\n",
        "\n",
        "print(f'A idade de Ayra é {Idade}')\n",
        "print(type(Idade))"
      ],
      "metadata": {
        "colab": {
          "base_uri": "https://localhost:8080/"
        },
        "id": "K3zgKqwmEsLY",
        "outputId": "f51f77b9-789b-46d9-bc4e-fb77a38e948c"
      },
      "execution_count": null,
      "outputs": [
        {
          "output_type": "stream",
          "name": "stdout",
          "text": [
            "A idade de Ayra é 4/n\n",
            "<class 'int'>\n"
          ]
        }
      ]
    },
    {
      "cell_type": "code",
      "source": [
        "valor = 150.58\n",
        "\n",
        "print(f'O valor é {valor}')\n",
        "print(type(valor))"
      ],
      "metadata": {
        "colab": {
          "base_uri": "https://localhost:8080/"
        },
        "id": "nATd_c0BFJYU",
        "outputId": "552333d1-5ff2-43a4-ec50-164bd4c5f7d4"
      },
      "execution_count": null,
      "outputs": [
        {
          "output_type": "stream",
          "name": "stdout",
          "text": [
            "O valor é 150.58\n",
            "<class 'float'>\n"
          ]
        }
      ]
    },
    {
      "cell_type": "code",
      "source": [
        "jogos = 'Ghost of Tsushima'\n",
        "\n",
        "print(jogos)\n",
        "print(type(jogos))"
      ],
      "metadata": {
        "colab": {
          "base_uri": "https://localhost:8080/"
        },
        "id": "j6XgniB2Cwz7",
        "outputId": "82661fa5-43f4-4b48-d617-8e735e1c2620"
      },
      "execution_count": null,
      "outputs": [
        {
          "output_type": "stream",
          "name": "stdout",
          "text": [
            "Ghost of Tsushima\n",
            "<class 'str'>\n"
          ]
        }
      ]
    },
    {
      "cell_type": "code",
      "source": [
        "ativo = True\n",
        "\n",
        "print(ativo)\n",
        "print(type(ativo))"
      ],
      "metadata": {
        "colab": {
          "base_uri": "https://localhost:8080/"
        },
        "id": "rFMg58chFZXM",
        "outputId": "8e52e7d9-3874-49e3-c9e9-11e21de323bf"
      },
      "execution_count": null,
      "outputs": [
        {
          "output_type": "stream",
          "name": "stdout",
          "text": [
            "True\n",
            "<class 'bool'>\n"
          ]
        }
      ]
    },
    {
      "cell_type": "markdown",
      "source": [
        "# Comentario em Python"
      ],
      "metadata": {
        "id": "4TUqLWa0HLhI"
      }
    },
    {
      "cell_type": "code",
      "source": [
        "# Ao iniciar a linha com Hastag isso será considerado um comentario, isso faz com que esse trecho do codigo seja ignorado."
      ],
      "metadata": {
        "id": "k5W_0LGpHQiQ"
      },
      "execution_count": null,
      "outputs": []
    },
    {
      "cell_type": "markdown",
      "source": [
        "# Operadores Aritméticos:\n",
        "\n",
        "1. Adição: +  \n",
        "2. Subtração: -  \n",
        "3. Multiplicação: *  \n",
        "4. Divisão: /  \n",
        "5. Divisão Inteira: //\n",
        "6. Módulo: (Resto da divisão): %  \n",
        "7. Potencialização: **\n",
        "\n",
        "\n",
        "1. Parênteses: ()\n",
        "2. Exponenciação: **\n",
        "3. Multiplicação, divisão, divisão inteira é Módulo: *, /, // e %\n",
        "4. Adição, subtração: + e -\n",
        "6. Comparações: == (Igual), != (Diferente), > (Maior), < (Menor), >= (Maior ou igual) e <= (Menor e igual)\n",
        "7. Lógicos not, and, or\n",
        "8. Atribuição =, +=. -=, *="
      ],
      "metadata": {
        "id": "gWd08Eyce8lh"
      }
    },
    {
      "cell_type": "code",
      "source": [
        "n1 = 5\n",
        "n2 = 9\n",
        "\n",
        "print(f'A soma dos numero é: {n1 + n2} ')\n",
        "print(f'A subtração dos numero é: {n1 - n2} ')\n",
        "print(f'A multiplicação dos numero é: {n1 * n2} ')\n",
        "print(f'A divisão dos numero é: {n1 / n2} ')\n",
        "print(f'A divisão inteira dos numero é: {n1 // n2} ')\n",
        "print(f'O resto da divisão dos numero é: {n1 % n2} ')\n",
        "print(f'A potência dos numero é: {n1 ** n2} ')"
      ],
      "metadata": {
        "colab": {
          "base_uri": "https://localhost:8080/"
        },
        "id": "9ZWEdxAFflsH",
        "outputId": "6dc62567-2245-445f-d3cd-5d4438bcb1a5"
      },
      "execution_count": null,
      "outputs": [
        {
          "output_type": "stream",
          "name": "stdout",
          "text": [
            "A soma dos numero é: 14 \n",
            "A subtração dos numero é: -4 \n",
            "A multiplicação dos numero é: 45 \n",
            "A divisão dos numero é: 0.5555555555555556 \n",
            "A divisão inteira dos numero é: 0 \n",
            "O resto da divisão dos numero é: 5 \n",
            "A potência dos numero é: 1953125 \n"
          ]
        }
      ]
    },
    {
      "cell_type": "markdown",
      "source": [],
      "metadata": {
        "id": "B5Z9oxlBo5nl"
      }
    },
    {
      "cell_type": "markdown",
      "source": [
        "# Operadores Relacionais (ou de Comparação):\n",
        "\n",
        "1. Igual a: ==  \n",
        "2. Diferente de: !=\n",
        "3. Maior que: >\n",
        "4. Maior ou igual a: >=\n",
        "5. Menor que: <\n",
        "6. Menor ou igual a: <="
      ],
      "metadata": {
        "id": "9i7syVeEfoUY"
      }
    },
    {
      "cell_type": "code",
      "source": [
        "ayra = 4\n",
        "aquilles = 14\n",
        "ryan = 17\n",
        "pietra = 15\n",
        "samella = 20\n",
        "\n",
        "print(f'A idade de Ayra é igual a do Aquilles? {ayra == aquilles}')\n",
        "print(f'A idade de Ayra é diferente da idade do Ryan? {ayra != ryan}')\n",
        "print(f'A idade da Samella é maior que a do Pietra? {samella > pietra}')\n",
        "print(f'A idade da Ayra é maior ou igual a idade do samella? {ayra >= samella}')\n",
        "print(f'A idade da Ryan e menor que a idade do Aquilles? {ryan < aquilles}')\n",
        "print(f'A idade da Ayra e menor ou igual a idade do pietra? {ayra <= aquilles}')"
      ],
      "metadata": {
        "colab": {
          "base_uri": "https://localhost:8080/"
        },
        "id": "oM9sy-SHgV7w",
        "outputId": "ad526e6c-0b99-40b2-d49c-0e161a3a01b0"
      },
      "execution_count": null,
      "outputs": [
        {
          "output_type": "stream",
          "name": "stdout",
          "text": [
            "A idade de Ayra é igual a do Aquilles? False\n",
            "A idade de Ayra é diferente da idade do Ryan? True\n",
            "A idade da Samella é maior que a do Pietra? True\n",
            "A idade da Ayra é maior ou igual a idade do samella? False\n",
            "A idade da Ryan e menor que a idade do Aquilles? False\n",
            "A idade da Ayra e menor ou igual a idade do pietra? True\n"
          ]
        }
      ]
    },
    {
      "cell_type": "markdown",
      "source": [
        "# Operadores Lógicos:\n",
        "\n",
        "1. \"E\" lógico: and\n",
        "2. \"OU\" lógico: or\n",
        "3. \"Não\" lógico: not"
      ],
      "metadata": {
        "id": "4ilEfOWmgX-I"
      }
    },
    {
      "cell_type": "code",
      "source": [
        "ayra = 4\n",
        "aquilles = 14\n",
        "ryan = 17\n",
        "pietra = 15\n",
        "samella = 20\n",
        "\n",
        "#Operador \"and\"\n",
        "#Somente se todas as condições forem atendidas, o resultado sera verdadeiro.\n",
        "\n",
        "#Nesse exemplo,  se as duas condições as 2 condições são falsas, não antendendo as 2 condições o resultado e falso.\n",
        "print(f'A idade de Ayra e maior que a idade do Aquilles e do Ryan? {ayra > aquilles and ayra > ryan}')\n",
        "#Nesse exemplo, as duas condições são verdadeira, como as 2 condições foram atendidas, o resultado e verdadeiro.\n",
        "print(f'A idade de Ayra e menor que a idade do Samella e da Pietra? {ayra < samella and ayra < pietra}')\n",
        "#Nesse exemplo, uma das condições e verdadeira e a outra e falsa, como uma das condições não foi atendida, o resultado e falso.\n",
        "print(f'A idade de Ayra e igual que a idade do Ryan e da Samella? {ayra == samella and ayra != pietra}')\n",
        "print()\n",
        "\n",
        "#Operador \"or\"\n",
        "#Se 1 uma das condições forem atendidas, o resultado será verdadeiro.\n",
        "print(5*\"***\")\n",
        "#Nesse exemplo, as 2 condições são falsas, gerando resultado falso.\n",
        "print(f'o Ryan ou a Pietra são mais velhos que a Ayra? {ayra > ryan or ayra > pietra}')\n",
        "#Nesse exemplo, somente uma das condições são atendidas, gerando resultado verdadeiro.\n",
        "print(f'A Pietra e mais velha que o ryan e mais nova que a ayra? {pietra > ryan or pietra > ayra}')\n",
        "print()\n",
        "\n",
        "#Operador \"not\"\n",
        "#Ele sempre vai inverter os resultados.\n",
        "\n",
        "#No exemplo abaixo, na primeira linha, estamos usando o operador \"and\", onde as 2 condições são verdadeiras, gerando resultado verdadeiro, porém, na proxima linha, ultilizando o operador \"not\" o resultado e invertido.\n",
        "print(5*\"***\")\n",
        "inicio = print(f'A idade de Ayra e menor que a idade do Samella e da Pietra? {ayra < samella and ayra < pietra}')\n",
        "print(f'A idade de Ayra e menor que a idade do Samella e da Pietra? {not ayra < samella and ayra < pietra}')\n",
        "print()\n",
        "\n",
        "#No exemplo, termos uma expressão que retornaria o resultado falso, mas usando o operador not, o resultado foi auterado para verdadeiro.\n",
        "print(f'o Ryan ou a Pietra são mais velhos que a Ayra? {ayra > ryan or ayra > pietra}')\n",
        "print(f'o Ryan ou a Pietra são mais velhos que a Ayra? {not ayra > ryan or ayra > pietra}')\n",
        "print()\n",
        "print(5*\"***\")"
      ],
      "metadata": {
        "colab": {
          "base_uri": "https://localhost:8080/"
        },
        "id": "aLouyFQdgzTt",
        "outputId": "833fef7f-f9b6-45b6-d800-d709242dc3e5"
      },
      "execution_count": null,
      "outputs": [
        {
          "output_type": "stream",
          "name": "stdout",
          "text": [
            "A idade de Ayra e maior que a idade do Aquilles e do Ryan? False\n",
            "A idade de Ayra e menor que a idade do Samella e da Pietra? True\n",
            "A idade de Ayra e igual que a idade do Ryan e da Samella? False\n",
            "\n",
            "***************\n",
            "o Ryan ou a Pietra são mais velhos que a Ayra? False\n",
            "A Pietra e mais velha que o ryan e mais nova que a ayra? True\n",
            "\n",
            "***************\n",
            "A idade de Ayra e menor que a idade do Samella e da Pietra? True\n",
            "A idade de Ayra e menor que a idade do Samella e da Pietra? False\n",
            "\n",
            "o Ryan ou a Pietra são mais velhos que a Ayra? False\n",
            "o Ryan ou a Pietra são mais velhos que a Ayra? True\n",
            "\n",
            "***************\n"
          ]
        }
      ]
    },
    {
      "cell_type": "markdown",
      "source": [
        "# Comandos de entrada e saída\n",
        "\n"
      ],
      "metadata": {
        "id": "nOQTVMVtnHXC"
      }
    },
    {
      "cell_type": "markdown",
      "source": [
        "Comando de entrada: Comando input()"
      ],
      "metadata": {
        "id": "EP-xMjQIsX4m"
      }
    },
    {
      "cell_type": "code",
      "source": [
        "#O comando input por si, vai abrir um campo solicitando que o usuário realizei a digitação de algo.\n",
        "input()\n",
        "\n",
        "#Ele pode ser usando junto uma string para realizar a pergunta a um usuário.\n",
        "input(\"Qual seu nome?\")\n",
        "print()\n",
        "\n",
        "#Mas também e possível associoar a uma variavel para armazenar o valor que o usuario vai digitar no campo, no qual pode ser usado em outro contexto do codigo.\n",
        "idade = input(\"Qual a sua idade?\")\n",
        "print(idade)\n",
        "print()\n",
        "\n",
        "#Sem tratamento, o resultado sempre vai ser tipado como uma string.\n",
        "type(idade)\n",
        "\n",
        "#E possível então, realizar a tratativa dessa informação, realizando uma conversão de tipo.\n",
        "altura = float(input('Qual sua altura?'))\n",
        "print(altura)\n",
        "print()\n",
        "print(type(altura))"
      ],
      "metadata": {
        "colab": {
          "base_uri": "https://localhost:8080/"
        },
        "id": "N0HNb9XRnK0A",
        "outputId": "f85acd24-acae-4adf-a1df-1ae5e5a6a9be"
      },
      "execution_count": null,
      "outputs": [
        {
          "output_type": "stream",
          "name": "stdout",
          "text": [
            "\n",
            "Qual seu nome?Thiago\n",
            "\n",
            "Qual a sua idade?37\n",
            "37\n",
            "\n",
            "Qual sua altura?1.86\n",
            "1.86\n",
            "\n",
            "<class 'float'>\n"
          ]
        }
      ]
    },
    {
      "cell_type": "markdown",
      "source": [
        "Comando de saida: print()"
      ],
      "metadata": {
        "id": "KQXNsdkHsc6u"
      }
    },
    {
      "cell_type": "code",
      "source": [
        "#o Comando print, vai ser responsavel por imprimir na tela, o que for inserido como parametro dentro dentro dos parenteses.\n",
        "print(\"Bem vindo, estou imprimindo na tela o que você me pediu.\")\n",
        "print()\n",
        "\n",
        "#Mas podemos ir além, e usar outros metodos para incrementar o que e escrito na tela, como imprimir o que está dentro de uma variavel.\n",
        "nome = \"Thiago\"\n",
        "print(nome)\n",
        "print()\n",
        "\n",
        "#podemos também, incrementar o que esta sendo exibido.\n",
        "print('Meu nome é: ' + nome)\n",
        "print()\n",
        "\n",
        "#Melhor ainda, podmeos usar a interpolação de strings, para facilitar ainda mais a insersão de variavies entro de um print, combinando partes de texto, com variaves.\n",
        "#para isso, no inicio antes das aspas vamos inserir o comando \"f\" fazendo com que tudo apartir dali que for inserir dentro dos colchetes {} seja reconhecido como uma variavel.\n",
        "print(f\"Olá, meu nome é {nome}.\")"
      ],
      "metadata": {
        "colab": {
          "base_uri": "https://localhost:8080/"
        },
        "id": "NlzIrXvisg6a",
        "outputId": "098cba4d-b113-42aa-aab8-2c8a616c01c9"
      },
      "execution_count": null,
      "outputs": [
        {
          "output_type": "stream",
          "name": "stdout",
          "text": [
            "Bem vindo, estou imprimindo na tela o que você me pediu.\n",
            "\n",
            "Thiago\n",
            "\n",
            "Meu nome é: Thiago\n",
            "\n",
            "Olá, meu nome é Thiago.\n"
          ]
        }
      ]
    },
    {
      "cell_type": "code",
      "source": [
        "#Abaixo vou dar alguns exemplos das 2 funções sendo usadas em conjunto.\n",
        "nome = input(\"Qual seu nome? \")\n",
        "idade = input(\"Qual sua idade? \")\n",
        "altura = float(input(\"Qual a sua altura \"))\n",
        "peso = float(input(\"Qual seu peso? \"))\n",
        "\n",
        "print(f'Olá {nome}, vi aqui que você tem {idade} anos de idade, tem {altura} metros e seu peso é {peso} kilos, se me permitir vou realizar o seu calculo de imc {round(peso*(altura*2), 2)}')"
      ],
      "metadata": {
        "colab": {
          "base_uri": "https://localhost:8080/"
        },
        "id": "jVkes4RTwe2S",
        "outputId": "9d4ce44f-405c-45ec-b506-39d0ff5f7a99"
      },
      "execution_count": null,
      "outputs": [
        {
          "output_type": "stream",
          "name": "stdout",
          "text": [
            "Qual seu nome?Thiago\n",
            "Qual sua idade?37\n",
            "Qual a sua altura1.86\n",
            "Qual seu peso?97\n",
            "Olá Thiago, vi aqui que você tem 37 anos de idade, tem 1.86 metros e seu peso é 97.0 kilos, se me permitir vou realizar o seu calculo de imc 360.84\n"
          ]
        }
      ]
    },
    {
      "cell_type": "markdown",
      "source": [
        "# Estruturas condicionais"
      ],
      "metadata": {
        "id": "fcr-OambqK7F"
      }
    },
    {
      "cell_type": "markdown",
      "source": [
        "## Estrutura condicional simples\n",
        "\n",
        "if = se  \n",
        "else = senão"
      ],
      "metadata": {
        "id": "m8aEWYe6qSnL"
      }
    },
    {
      "cell_type": "code",
      "source": [
        "#Com os comandos acima, posso criar um sistema que atenda condições.\n",
        "#if (se) = Se a condição atribuida for atendida, tudo que vier abaixo será executado\n",
        "#else (senão) = se a condição atribuida não for atendida, o que está baixo vai ser executado.\n",
        "\n",
        "#O programa abaixo, vai fazer o calculo de notas escolares e vai informar na tela, se a media  foi ou não atendida para aprovação do aluno.\n",
        "\n",
        "#Foi definido nas variaveis abaixo, as notas do aluno.\n",
        "nota1 = 5.3\n",
        "nota2 = 8.9\n",
        "nota3 = 7.1\n",
        "nota4 = 5\n",
        "#Nessa variavel, foi definido o calculo da media, onde foi somado todas as notas, entre parenteses para cumprir a ordem de procedencia forçando a soma a ser realizada primeiro, depois dividindo a soma pela quantidade de notas.\n",
        "media_total = round((nota1 + nota2 + nota3 + nota4)/4, 2)\n",
        "\n",
        "#Nesse bloco foi definido que caso a media da nota seja maior que 7, o sistema deve apresentar a mensagem com valor da media, e depois uma mensagem informando a aprovação.\n",
        "if media_total > 7:\n",
        "  print(f\"Sua media foi {media_total}. Parabens você foi aprovado.\")\n",
        "#Aqui foi definido que caso a condição acima não seja atendida, o trecho abaixo deve ser executado, informando a media das notas, e uma mensagem informando a reprovação.\n",
        "else:\n",
        "  print(f\"Sua media foi {media_total}. Você foi reprovado.\")"
      ],
      "metadata": {
        "colab": {
          "base_uri": "https://localhost:8080/"
        },
        "id": "rA_6Aif7qWeL",
        "outputId": "6769693c-69cb-4ed9-ec2b-2c2427e20bf1"
      },
      "execution_count": null,
      "outputs": [
        {
          "output_type": "stream",
          "name": "stdout",
          "text": [
            "Sua media foi 6.57. Você foi reprovado.\n"
          ]
        }
      ]
    },
    {
      "cell_type": "markdown",
      "source": [
        "## Estrutura condicional composta.\n",
        "\n",
        "elif = se senão"
      ],
      "metadata": {
        "id": "3vpIHBdoR_I0"
      }
    },
    {
      "cell_type": "code",
      "source": [
        "#elif permite que você realize uma estrutura condicional, com algumas vantagens além do if, além de tornar o codigo mais amigavel é facil de ler,\n",
        "#também, ao ultilizar novovamente o if para novas condições, o python fará a leitura de cada condição antes de dar a resposta, tornando o codigo mais lento.\n",
        "#no caso do elif, o codigo não e mais executado, apartir do momento que uma condição e atendida, o resto do bloco não será mais executado.\n",
        "\n",
        "#no exemplo a seguir, vamos avaliar o ano de fabricação de um carro, e definir se ele vai ou não atender o requisito do nosso cliente.\n",
        "\n",
        "\n",
        "carro = 2018\n",
        "\n",
        "#Na condição abaixo, ele define que, se o valor do carro for maior ou igual a 2012 e menor ou igual a 2017, ele apresentará a mensagem dentro do print.\n",
        "if carro >= 2012 and carro <=2017:\n",
        "  print('Esse carro atendende sua nescessidade.')\n",
        "#Se se não atender a anterior, ele vai ler essa condição, caso atenda ele executará o comando print.\n",
        "elif carro >= 2018:\n",
        "  print('Esse carro e muito novo.')\n",
        "#Caso nenhuma das anteriores forem atendidas, a condição a seguir será executada, novamnete executando o comando print.\n",
        "else:\n",
        "  print('Esse carro e muito antigo.')\n",
        "\n",
        "#No exemplo que utilizei, o python vai fazer a leitura da primeira condição, como não foi atendida, ele vai passar a segunda condição, como ela vai ser atendida, a o else abaixo ou no caso de novos elif, não seriam lidos,\n",
        "#e o comando da condição será executada."
      ],
      "metadata": {
        "id": "M204TtqVSEj8",
        "colab": {
          "base_uri": "https://localhost:8080/"
        },
        "outputId": "b8506cb7-a6be-4ca8-c9f5-13c61b11dea7"
      },
      "execution_count": null,
      "outputs": [
        {
          "output_type": "stream",
          "name": "stdout",
          "text": [
            "Esse carro e muito novo.\n"
          ]
        }
      ]
    },
    {
      "cell_type": "markdown",
      "source": [
        "# **Estrutura de repetição**\n",
        "\n",
        "for =  para  \n",
        "while = enquanto"
      ],
      "metadata": {
        "id": "kGUEPKr51HXL"
      }
    },
    {
      "cell_type": "markdown",
      "source": [
        "## **For**"
      ],
      "metadata": {
        "id": "1sPDxKWJZP-i"
      }
    },
    {
      "cell_type": "markdown",
      "source": [
        "### For usando listas para definir o loop."
      ],
      "metadata": {
        "id": "TWqpM_mbZWeD"
      }
    },
    {
      "cell_type": "code",
      "source": [
        "#No comando \"for\", ele vai realizar a repetição de um bloco, gravando em uma variavel interna cada repetição, seguindo uma sequencia estabelecida.\n",
        "#Essa sequecia, por der uma lista, tupla, string ou uma range.\n",
        "\n",
        "#Abaixo através de uma lista, eu defino a sequencia de numeros disponivel na variavel.\n",
        "numeros = [1, 2, 3, 4, 5]\n",
        "\n",
        "#Nesse bloco, usando o comando \"for\", eu crio a variavel numero, onde será armazenada cada numero que \"for\" lido e sequecia na lista.\n",
        "#após isso usando o comando \"in\" (em) informando onde o comando \"for\" deve buscar os dados.\n",
        "#Esse bloco vai ler cada 1 dos indices da lista, gravar na variavel numero e executar o comando \"print\" que vai ler o valor da variavel \"numero\" e vai exibir na tela\n",
        "#Repetindo isso até o ultimo item da lista.\n",
        "for numero in numeros:\n",
        "  print(numero)"
      ],
      "metadata": {
        "colab": {
          "base_uri": "https://localhost:8080/"
        },
        "id": "A3Ukxv7K1QIN",
        "outputId": "af4b6844-df71-4252-8f9c-dca9b115b1a3"
      },
      "execution_count": null,
      "outputs": [
        {
          "output_type": "stream",
          "name": "stdout",
          "text": [
            "1\n",
            "2\n",
            "3\n",
            "4\n",
            "5\n"
          ]
        }
      ]
    },
    {
      "cell_type": "markdown",
      "source": [
        "### For usando string"
      ],
      "metadata": {
        "id": "_Rak0_NzZsmL"
      }
    },
    {
      "cell_type": "code",
      "source": [
        "#Nesse bloco, vamos fazer a mesma coisa, mais aqui vamos usar uma string.\n",
        "\n",
        "#Na variavel nome eu defini a string \"Lucilene\"\n",
        "nome = \"Lucilene\"\n",
        "\n",
        "#O bloco \"for\" vai ler cada uma dos caracteres da string e gravar na variavel soletrar, apois isso, vai imprimindo uma a uma até o ultimo caracter.\n",
        "for soletrar in nome:\n",
        "  print(soletrar)"
      ],
      "metadata": {
        "colab": {
          "base_uri": "https://localhost:8080/"
        },
        "id": "fkjox2xcTvWT",
        "outputId": "31110f8d-feff-4dfc-b647-32c931e19b98"
      },
      "execution_count": null,
      "outputs": [
        {
          "output_type": "stream",
          "name": "stdout",
          "text": [
            "L\n",
            "u\n",
            "c\n",
            "i\n",
            "l\n",
            "e\n",
            "n\n",
            "e\n"
          ]
        }
      ]
    },
    {
      "cell_type": "markdown",
      "source": [
        "### For usando parametro range\n",
        "\n",
        "range(n) = Exemplo no primeiro bloco.  \n",
        "range(start, stop) = Exemplo no segundo bloco  \n",
        "range(start, stop, step) = Exemplo no terceiro bloco"
      ],
      "metadata": {
        "id": "dmCSmum8ZzVz"
      }
    },
    {
      "cell_type": "code",
      "source": [
        "#Nesse bloco, vamos ultilizar o comando \"range\" para definir a seguencia.\n",
        "\n",
        "#nesse bloco, o for vai repetir a sequencia de numeros conforme instrução do range até a quantidade definida.\n",
        "#obs.: Na maioria das linguagens os numero sempre irão iniciar apartir do 0, então no caso, como foi definido que a sequencia em 10 caracteres, ele imprime os numeros de 0 a 9.\n",
        "for i in range(10):\n",
        "  print(i)"
      ],
      "metadata": {
        "colab": {
          "base_uri": "https://localhost:8080/"
        },
        "id": "HZa8ambbVB7W",
        "outputId": "4c7e7745-4f3f-4067-ff84-3801b2f336a6"
      },
      "execution_count": null,
      "outputs": [
        {
          "output_type": "stream",
          "name": "stdout",
          "text": [
            "0\n",
            "1\n",
            "2\n",
            "3\n",
            "4\n",
            "5\n",
            "6\n",
            "7\n",
            "8\n",
            "9\n"
          ]
        }
      ]
    },
    {
      "cell_type": "code",
      "source": [
        "#Usando range(start, stop) no start eu defino qual numero devo começar a contagem, e no stop defino quantos loops serão realizados.\n",
        "\n",
        "#No bloco abaixo, foi definido que ele inicie a sequencia no numero 5, fazendo com que ele pare no 20.\n",
        "for i in range(5, 20):\n",
        "  print(i)"
      ],
      "metadata": {
        "colab": {
          "base_uri": "https://localhost:8080/"
        },
        "id": "_C9C6-xqYqjy",
        "outputId": "a07fab6d-d8bf-491c-c570-f28dcb40a3d8"
      },
      "execution_count": null,
      "outputs": [
        {
          "output_type": "stream",
          "name": "stdout",
          "text": [
            "5\n",
            "6\n",
            "7\n",
            "8\n",
            "9\n",
            "10\n",
            "11\n",
            "12\n",
            "13\n",
            "14\n",
            "15\n",
            "16\n",
            "17\n",
            "18\n",
            "19\n"
          ]
        }
      ]
    },
    {
      "cell_type": "code",
      "source": [
        "#Vamos usar o range(start, stop, step), o start define o numero que via iniciar a sequencia, o stop em qual vai parar e step quantos numeros ele vai pular.\n",
        "\n",
        "#Nesse bloco iniciamos a sequencia no numero 1, definimos que o loop pare no numero 20, e também que ele vai pular 3 numeros e depois gravar e imprimir.\n",
        "for i in range(1, 20, 3):\n",
        "  print(i)"
      ],
      "metadata": {
        "colab": {
          "base_uri": "https://localhost:8080/"
        },
        "id": "mJywpSHmcJAI",
        "outputId": "439c7db8-1323-4978-d969-ba0ee18bfd02"
      },
      "execution_count": null,
      "outputs": [
        {
          "output_type": "stream",
          "name": "stdout",
          "text": [
            "1\n",
            "4\n",
            "7\n",
            "10\n",
            "13\n",
            "16\n",
            "19\n"
          ]
        }
      ]
    },
    {
      "cell_type": "markdown",
      "source": [
        "### enumerate()"
      ],
      "metadata": {
        "id": "TpOHo6B6c7lM"
      }
    },
    {
      "cell_type": "code",
      "source": [
        "#O parametro enumerate() vai resgatar o indice e o valor de uma sequencia, seja ela, uma lista, uma tupla ou string.\n",
        "\n",
        "equipamentos = [\"monitor\", \"gabinete\", \"mouse\", \"teclado\"]\n",
        "\n",
        "for indice, equipamento in enumerate(equipamentos):\n",
        "  print(f'{indice}: {equipamento}')"
      ],
      "metadata": {
        "colab": {
          "base_uri": "https://localhost:8080/"
        },
        "id": "4PrausKIc6St",
        "outputId": "6aa1d6d7-c211-4ea6-e62a-967c3f2a19ee"
      },
      "execution_count": null,
      "outputs": [
        {
          "output_type": "stream",
          "name": "stdout",
          "text": [
            "0: monitor\n",
            "1: gabinete\n",
            "2: mouse\n",
            "3: teclado\n"
          ]
        }
      ]
    },
    {
      "cell_type": "code",
      "source": [
        "#Enumerate também me permite definir um start do indicie.\n",
        "\n",
        "for indice, equipamento in enumerate(equipamentos, start=1):\n",
        "  print(f'{indice}: {equipamento}')"
      ],
      "metadata": {
        "colab": {
          "base_uri": "https://localhost:8080/"
        },
        "id": "EoSRv3vefcjm",
        "outputId": "f822cd16-52b9-4ded-b633-ddee1aebda8c"
      },
      "execution_count": null,
      "outputs": [
        {
          "output_type": "stream",
          "name": "stdout",
          "text": [
            "1: monitor\n",
            "2: gabinete\n",
            "3: mouse\n",
            "4: teclado\n"
          ]
        }
      ]
    },
    {
      "cell_type": "code",
      "source": [
        "#Usando o enumerate com string.\n",
        "\n",
        "jogo = \"Ghost of Tsushima\"\n",
        "\n",
        "for indice, letra in enumerate(jogo):\n",
        "  print(f'{indice}: {letra}')"
      ],
      "metadata": {
        "colab": {
          "base_uri": "https://localhost:8080/"
        },
        "id": "oHNsi3oxfwXt",
        "outputId": "8bbe763a-2b84-4ca6-f37b-c80f1dcc6c89"
      },
      "execution_count": null,
      "outputs": [
        {
          "output_type": "stream",
          "name": "stdout",
          "text": [
            "0: G\n",
            "1: h\n",
            "2: o\n",
            "3: s\n",
            "4: t\n",
            "5:  \n",
            "6: o\n",
            "7: f\n",
            "8:  \n",
            "9: T\n",
            "10: s\n",
            "11: u\n",
            "12: s\n",
            "13: h\n",
            "14: i\n",
            "15: m\n",
            "16: a\n"
          ]
        }
      ]
    },
    {
      "cell_type": "markdown",
      "source": [
        "## While"
      ],
      "metadata": {
        "id": "JNzjI7scNmUq"
      }
    },
    {
      "cell_type": "code",
      "source": [
        "#Estrutura while, permite criar uma estrutura de repetição, onde será respeitada uma condição para a pagada de repetição, ao contrario do for, que são fornecido dados para que ele leia e reíta até que os dados fornecidos acabem\n",
        "#no while, vai ser definido uma condição para a parada, conforme exemplo abaixo.\n",
        "\n",
        "#Nesse codigo, vamos fazer a contagem de pessoas que podem acessar um local, o limite de pessoas e 10, quando atingir 10 pessoas no local, o loop será encerrado.\n",
        "#Lembrando, a cada verificação, o comando vai verificar se a variavel de controle até a condição imposta, apresentando o valor TRUE, no momento que a condição não for mais atendida, o valor será alterado para FALSE, e o loop\n",
        "#será encerrado.\n",
        "#Obs.: Sempre deve haver no codigo uma condição a ser atendida, caso contrario o codigo vai atingir o loop infinito, onde não a condição de parada, fazendo com que ele nunca pare, de forçando a parar a execuçõa a força, ou\n",
        "#ao travamento do programa.\n",
        "\n",
        "#Nessa linha, vamos definir a variavel de controle, onde informo que no momento o espaço esta vazio.\n",
        "pessoas = 0\n",
        "\n",
        "#nessa linha, eu incolo o comando while, e informo a ele, repita o bloco abaixo, até que a variavel de controle atinja o numero 10.\n",
        "while pessoas <= 10:\n",
        "  #Nesse momento, até que a variavel pessoas atinja o valor 10, o comando print vai ser executado.\n",
        "  print(f'O local está com {pessoas} pessoas')\n",
        "  #abaixo, foi adicionado uma expressão, que após a execução do print, seja incrementado + 1 a variavel pessoa, garantindo que o loop tenha final, e não gere um loop infinito.\n",
        "  pessoas += 1\n"
      ],
      "metadata": {
        "colab": {
          "base_uri": "https://localhost:8080/"
        },
        "id": "HrBO4LUgNlUZ",
        "outputId": "ed50f099-adb8-46c7-98a2-c4bc4eadde3c"
      },
      "execution_count": null,
      "outputs": [
        {
          "output_type": "stream",
          "name": "stdout",
          "text": [
            "O local está com 0 pessoas\n",
            "O local está com 1 pessoas\n",
            "O local está com 2 pessoas\n",
            "O local está com 3 pessoas\n",
            "O local está com 4 pessoas\n",
            "O local está com 5 pessoas\n",
            "O local está com 6 pessoas\n",
            "O local está com 7 pessoas\n",
            "O local está com 8 pessoas\n",
            "O local está com 9 pessoas\n",
            "O local está com 10 pessoas\n"
          ]
        }
      ]
    },
    {
      "cell_type": "markdown",
      "source": [
        "#### break"
      ],
      "metadata": {
        "id": "NLIF5HXEb94u"
      }
    },
    {
      "cell_type": "code",
      "source": [
        "#Com o comando break e possivel, definir um ponto de parada no loop.\n",
        "\n",
        "\n",
        "contador = 0\n",
        "\n",
        "while True:\n",
        "  print(contador)\n",
        "  contador += 1\n",
        "#Como não existe uma condição que finalize o loop, abaixo, foi adicionado um comando de condicional, com o if, foi definido uma condição para que ao ser atingida, aciona o comando braak.\n",
        "  if contador == 10:\n",
        "    break"
      ],
      "metadata": {
        "colab": {
          "base_uri": "https://localhost:8080/"
        },
        "id": "TiHV8h1TcAtT",
        "outputId": "f8814f2a-39b1-492c-db2a-c6dec305147f"
      },
      "execution_count": null,
      "outputs": [
        {
          "output_type": "stream",
          "name": "stdout",
          "text": [
            "0\n",
            "1\n",
            "2\n",
            "3\n",
            "4\n",
            "5\n",
            "6\n",
            "7\n",
            "8\n",
            "9\n"
          ]
        }
      ]
    },
    {
      "cell_type": "code",
      "source": [
        "#Pode ser usando também, o bloco else, que será executado assim que for encerrado o loop.\n",
        "\n",
        "pessoas = 0\n",
        "\n",
        "while pessoas <= 10:\n",
        "  print(f'O local está com {pessoas} pessoas')\n",
        "  pessoas += 1\n",
        "#Nesse caso, vou usar o else, para inprimir uma mensagem ao final da execução.\n",
        "else:\n",
        "    print('Casa lotada.')"
      ],
      "metadata": {
        "colab": {
          "base_uri": "https://localhost:8080/"
        },
        "id": "N9wK17Njcqct",
        "outputId": "c3d9b761-81a2-43a3-8283-def5a3b0f412"
      },
      "execution_count": null,
      "outputs": [
        {
          "output_type": "stream",
          "name": "stdout",
          "text": [
            "O local está com 0 pessoas\n",
            "O local está com 1 pessoas\n",
            "O local está com 2 pessoas\n",
            "O local está com 3 pessoas\n",
            "O local está com 4 pessoas\n",
            "O local está com 5 pessoas\n",
            "O local está com 6 pessoas\n",
            "O local está com 7 pessoas\n",
            "O local está com 8 pessoas\n",
            "O local está com 9 pessoas\n",
            "O local está com 10 pessoas\n",
            "Casa lotada.\n"
          ]
        }
      ]
    },
    {
      "cell_type": "markdown",
      "source": [
        "# Vetores unidimensionais"
      ],
      "metadata": {
        "id": "GlmLwdEmrOgj"
      }
    },
    {
      "cell_type": "code",
      "source": [
        "#Vetores são as lista, que podem ser usadas para a criação de um conjunto de dados a serem acessados posteriormente.\n",
        "\n",
        "frutas = ['morango', 'banana', 'abacate', 'abacaxi', 'limão', 'laranja', 'melão']\n",
        "print(frutas)"
      ],
      "metadata": {
        "colab": {
          "base_uri": "https://localhost:8080/"
        },
        "id": "2rBv7bs3rSKK",
        "outputId": "2236d3a3-f4bc-42cc-f620-429d75730097"
      },
      "execution_count": null,
      "outputs": [
        {
          "output_type": "stream",
          "name": "stdout",
          "text": [
            "['morango', 'banana', 'abacate', 'abacaxi', 'limão', 'laranja', 'melão']\n"
          ]
        }
      ]
    },
    {
      "cell_type": "code",
      "source": [
        "#Podemos acessar uma posição especifica da lista, usando seu indice, lembrando, que os indices começam sempre em 0.\n",
        "\n",
        "print(frutas[0])\n",
        "print(frutas[1])\n",
        "print(frutas[2])\n",
        "print(frutas[3])\n",
        "print(frutas[4])\n",
        "print(frutas[5])\n",
        "print(frutas[6])\n",
        "print()"
      ],
      "metadata": {
        "colab": {
          "base_uri": "https://localhost:8080/"
        },
        "id": "lTkNepvwvKMB",
        "outputId": "cf1b93f2-17d8-457b-9649-92489c71b351"
      },
      "execution_count": null,
      "outputs": [
        {
          "output_type": "stream",
          "name": "stdout",
          "text": [
            "morango\n",
            "banana\n",
            "abacate\n",
            "abacaxi\n",
            "limão\n",
            "laranja\n",
            "melão\n",
            "\n"
          ]
        }
      ]
    },
    {
      "cell_type": "code",
      "source": [
        "#Podemos também atraves do comando append adicionar elementos a lista\n",
        "\n",
        "frutas.append(\"melancia\")\n",
        "frutas.append(\"caqui\")\n",
        "\n",
        "print(frutas)\n",
        "print()"
      ],
      "metadata": {
        "colab": {
          "base_uri": "https://localhost:8080/"
        },
        "id": "TCGNjd3-w7CX",
        "outputId": "de561041-4c1d-4019-92b0-75c08da5c525"
      },
      "execution_count": null,
      "outputs": [
        {
          "output_type": "stream",
          "name": "stdout",
          "text": [
            "['morango', 'banana', 'abacate', 'abacaxi', 'limão', 'laranja', 'melão', 'melancia', 'caqui']\n",
            "\n"
          ]
        }
      ]
    },
    {
      "cell_type": "code",
      "source": [
        "#usando o comando insert posso definir a posição que desejo inserir o elemento.\n",
        "\n",
        "frutas.insert(4, \"mamão\")\n",
        "frutas.insert(8, \"lima\")\n",
        "\n",
        "print(frutas)\n",
        "print()\n",
        "print(frutas[4])\n",
        "print(frutas[8])"
      ],
      "metadata": {
        "colab": {
          "base_uri": "https://localhost:8080/"
        },
        "id": "rqfkL6jAw3Wm",
        "outputId": "bdcc7d61-fdab-41ed-b765-274b8cf516ed"
      },
      "execution_count": null,
      "outputs": [
        {
          "output_type": "stream",
          "name": "stdout",
          "text": [
            "['morango', 'banana', 'abacate', 'abacaxi', 'mamão', 'limão', 'laranja', 'melão', 'lima', 'melancia', 'caqui']\n",
            "\n",
            "mamão\n",
            "lima\n"
          ]
        }
      ]
    },
    {
      "cell_type": "code",
      "source": [
        "#Posso também, retirar um elemento, usando o comando remove, e preciso dar o valor do elemento para remoção.\n",
        "\n",
        "frutas.remove(\"lima\")\n",
        "print(frutas)"
      ],
      "metadata": {
        "colab": {
          "base_uri": "https://localhost:8080/"
        },
        "id": "0uhpBXg3xIlm",
        "outputId": "7e4c0179-9538-44cd-9aca-5e72740eb625"
      },
      "execution_count": null,
      "outputs": [
        {
          "output_type": "stream",
          "name": "stdout",
          "text": [
            "['morango', 'banana', 'abacate', 'abacaxi', 'mamão', 'limão', 'laranja', 'melão', 'melancia', 'caqui']\n"
          ]
        }
      ]
    },
    {
      "cell_type": "markdown",
      "source": [
        "# Operação com vetores"
      ],
      "metadata": {
        "id": "yux33i286TzE"
      }
    },
    {
      "cell_type": "code",
      "source": [
        "#Realizando operações com vetores.\n",
        "\n",
        "valores = [5.5, 2.2, 3.6, 5.9, 6.8, 1.9, 4.3]\n",
        "\n",
        "#Variavel de controle\n",
        "soma = 0\n",
        "\n",
        "#Definindo um laço de repetição, com variavel de controle chamado indice, percorrendo q quantidade de registros na lista.\n",
        "for indice in range(len(valores)):\n",
        "#No codigo abaixo, foi ultilizado a variavel de controle soma, que vai ser incrementada pelo indice percorrido pelo laço de repetição acima e gravado o indice atual, para que\n",
        "#executando o comando print definido abaixo, e reiniciando o laço, até que todos os indices da lista tenham sido percorrido.\n",
        "    soma += valores[indice]\n",
        "#Realizei aqui, uma formatação da quantidade de caracteres após a casa decima, usando o comando .format, passando o parametro como uma placeholder {:.2f}\n",
        "    print(\"{:.2f}\".format(soma))\n",
        "#Posso usar a operaçao acima, e já usar o resultado da soma, para realizar o calculo da media dos valores dentro da lista.\n",
        "media = soma/len(valores)\n",
        "print(\"A media dos numeros é: {:.2f}\".format(media))"
      ],
      "metadata": {
        "colab": {
          "base_uri": "https://localhost:8080/"
        },
        "id": "QrNfEhXaVdrk",
        "outputId": "6f8b0afd-14c0-4ea2-dd56-7e5b2d548a16"
      },
      "execution_count": 26,
      "outputs": [
        {
          "output_type": "stream",
          "name": "stdout",
          "text": [
            "5.50\n",
            "7.70\n",
            "11.30\n",
            "17.20\n",
            "24.00\n",
            "25.90\n",
            "30.20\n",
            "A media dos numeros é: 4.31\n"
          ]
        }
      ]
    }
  ]
}