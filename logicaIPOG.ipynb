{
  "nbformat": 4,
  "nbformat_minor": 0,
  "metadata": {
    "colab": {
      "provenance": [],
      "authorship_tag": "ABX9TyPkuj5MdhBPh3JUsn4nKIRi",
      "include_colab_link": true
    },
    "kernelspec": {
      "name": "python3",
      "display_name": "Python 3"
    },
    "language_info": {
      "name": "python"
    }
  },
  "cells": [
    {
      "cell_type": "markdown",
      "metadata": {
        "id": "view-in-github",
        "colab_type": "text"
      },
      "source": [
        "<a href=\"https://colab.research.google.com/github/ravynos/logicaIPOG/blob/main/logicaIPOG.ipynb\" target=\"_parent\"><img src=\"https://colab.research.google.com/assets/colab-badge.svg\" alt=\"Open In Colab\"/></a>"
      ]
    },
    {
      "cell_type": "markdown",
      "source": [
        "# Tipos de dados"
      ],
      "metadata": {
        "id": "aXoBF-AZCteF"
      }
    },
    {
      "cell_type": "markdown",
      "source": [
        "int = Numero inteiro  \n",
        "Float = Ponto Flutuante (Numeros com casas decimais)  \n",
        "str = Palavras (String)  \n",
        "bool = Booleanos (Verdadeiro ou Falso)  "
      ],
      "metadata": {
        "id": "9iqaLR2dC2rR"
      }
    },
    {
      "cell_type": "code",
      "source": [
        "Idade = 4\n",
        "\n",
        "print(f'A idade de Ayra é {Idade}')\n",
        "print(type(Idade))"
      ],
      "metadata": {
        "colab": {
          "base_uri": "https://localhost:8080/"
        },
        "id": "K3zgKqwmEsLY",
        "outputId": "f51f77b9-789b-46d9-bc4e-fb77a38e948c"
      },
      "execution_count": 5,
      "outputs": [
        {
          "output_type": "stream",
          "name": "stdout",
          "text": [
            "A idade de Ayra é 4/n\n",
            "<class 'int'>\n"
          ]
        }
      ]
    },
    {
      "cell_type": "code",
      "source": [
        "valor = 150.58\n",
        "\n",
        "print(f'O valor é {valor}')\n",
        "print(type(valor))"
      ],
      "metadata": {
        "colab": {
          "base_uri": "https://localhost:8080/"
        },
        "id": "nATd_c0BFJYU",
        "outputId": "552333d1-5ff2-43a4-ec50-164bd4c5f7d4"
      },
      "execution_count": 6,
      "outputs": [
        {
          "output_type": "stream",
          "name": "stdout",
          "text": [
            "O valor é 150.58\n",
            "<class 'float'>\n"
          ]
        }
      ]
    },
    {
      "cell_type": "code",
      "source": [
        "jogos = 'Ghost of Tsushima'\n",
        "\n",
        "print(jogos)\n",
        "print(type(jogos))"
      ],
      "metadata": {
        "colab": {
          "base_uri": "https://localhost:8080/"
        },
        "id": "j6XgniB2Cwz7",
        "outputId": "82661fa5-43f4-4b48-d617-8e735e1c2620"
      },
      "execution_count": 1,
      "outputs": [
        {
          "output_type": "stream",
          "name": "stdout",
          "text": [
            "Ghost of Tsushima\n",
            "<class 'str'>\n"
          ]
        }
      ]
    },
    {
      "cell_type": "code",
      "source": [
        "ativo = True\n",
        "\n",
        "print(ativo)\n",
        "print(type(ativo))"
      ],
      "metadata": {
        "colab": {
          "base_uri": "https://localhost:8080/"
        },
        "id": "rFMg58chFZXM",
        "outputId": "8e52e7d9-3874-49e3-c9e9-11e21de323bf"
      },
      "execution_count": 7,
      "outputs": [
        {
          "output_type": "stream",
          "name": "stdout",
          "text": [
            "True\n",
            "<class 'bool'>\n"
          ]
        }
      ]
    }
  ]
}