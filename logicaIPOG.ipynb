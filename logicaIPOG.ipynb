{
  "nbformat": 4,
  "nbformat_minor": 0,
  "metadata": {
    "colab": {
      "provenance": [],
      "authorship_tag": "ABX9TyP3V0CNhGnrEuXFufRfxzFJ",
      "include_colab_link": true
    },
    "kernelspec": {
      "name": "python3",
      "display_name": "Python 3"
    },
    "language_info": {
      "name": "python"
    }
  },
  "cells": [
    {
      "cell_type": "markdown",
      "metadata": {
        "id": "view-in-github",
        "colab_type": "text"
      },
      "source": [
        "<a href=\"https://colab.research.google.com/github/ravynos/logicaIPOG/blob/main/logicaIPOG.ipynb\" target=\"_parent\"><img src=\"https://colab.research.google.com/assets/colab-badge.svg\" alt=\"Open In Colab\"/></a>"
      ]
    },
    {
      "cell_type": "markdown",
      "source": [
        "# Tipos de dados"
      ],
      "metadata": {
        "id": "aXoBF-AZCteF"
      }
    },
    {
      "cell_type": "markdown",
      "source": [
        "int = Numero inteiro  \n",
        "Float = Ponto Flutuante (Numeros com casas decimais)  \n",
        "str = Palavras (String)  \n",
        "bool = Booleanos (Verdadeiro ou Falso)  "
      ],
      "metadata": {
        "id": "9iqaLR2dC2rR"
      }
    },
    {
      "cell_type": "code",
      "source": [
        "Idade = 4\n",
        "\n",
        "print(f'A idade de Ayra é {Idade}')\n",
        "print(type(Idade))"
      ],
      "metadata": {
        "colab": {
          "base_uri": "https://localhost:8080/"
        },
        "id": "K3zgKqwmEsLY",
        "outputId": "f51f77b9-789b-46d9-bc4e-fb77a38e948c"
      },
      "execution_count": null,
      "outputs": [
        {
          "output_type": "stream",
          "name": "stdout",
          "text": [
            "A idade de Ayra é 4/n\n",
            "<class 'int'>\n"
          ]
        }
      ]
    },
    {
      "cell_type": "code",
      "source": [
        "valor = 150.58\n",
        "\n",
        "print(f'O valor é {valor}')\n",
        "print(type(valor))"
      ],
      "metadata": {
        "colab": {
          "base_uri": "https://localhost:8080/"
        },
        "id": "nATd_c0BFJYU",
        "outputId": "552333d1-5ff2-43a4-ec50-164bd4c5f7d4"
      },
      "execution_count": null,
      "outputs": [
        {
          "output_type": "stream",
          "name": "stdout",
          "text": [
            "O valor é 150.58\n",
            "<class 'float'>\n"
          ]
        }
      ]
    },
    {
      "cell_type": "code",
      "source": [
        "jogos = 'Ghost of Tsushima'\n",
        "\n",
        "print(jogos)\n",
        "print(type(jogos))"
      ],
      "metadata": {
        "colab": {
          "base_uri": "https://localhost:8080/"
        },
        "id": "j6XgniB2Cwz7",
        "outputId": "82661fa5-43f4-4b48-d617-8e735e1c2620"
      },
      "execution_count": null,
      "outputs": [
        {
          "output_type": "stream",
          "name": "stdout",
          "text": [
            "Ghost of Tsushima\n",
            "<class 'str'>\n"
          ]
        }
      ]
    },
    {
      "cell_type": "code",
      "source": [
        "ativo = True\n",
        "\n",
        "print(ativo)\n",
        "print(type(ativo))"
      ],
      "metadata": {
        "colab": {
          "base_uri": "https://localhost:8080/"
        },
        "id": "rFMg58chFZXM",
        "outputId": "8e52e7d9-3874-49e3-c9e9-11e21de323bf"
      },
      "execution_count": null,
      "outputs": [
        {
          "output_type": "stream",
          "name": "stdout",
          "text": [
            "True\n",
            "<class 'bool'>\n"
          ]
        }
      ]
    },
    {
      "cell_type": "markdown",
      "source": [
        "# Comentario em Python"
      ],
      "metadata": {
        "id": "4TUqLWa0HLhI"
      }
    },
    {
      "cell_type": "code",
      "source": [
        "# Ao iniciar a linha com Hastag isso será considerado um comentario, isso faz com que esse trecho do codigo seja ignorado."
      ],
      "metadata": {
        "id": "k5W_0LGpHQiQ"
      },
      "execution_count": null,
      "outputs": []
    },
    {
      "cell_type": "markdown",
      "source": [
        "# Operadores Aritméticos:\n",
        "\n",
        "1. Adição: +  \n",
        "2. Subtração: -  \n",
        "3. Multiplicação: *  \n",
        "4. Divisão: /  \n",
        "5. Divisão Inteira: //\n",
        "6. Módulo: (Resto da divisão): %  \n",
        "7. Potencialização: **"
      ],
      "metadata": {
        "id": "gWd08Eyce8lh"
      }
    },
    {
      "cell_type": "code",
      "source": [
        "n1 = 5\n",
        "n2 = 9\n",
        "\n",
        "print(f'A soma dos numero é: {n1 + n2} ')\n",
        "print(f'A subtração dos numero é: {n1 - n2} ')\n",
        "print(f'A multiplicação dos numero é: {n1 * n2} ')\n",
        "print(f'A divisão dos numero é: {n1 / n2} ')\n",
        "print(f'A divisão inteira dos numero é: {n1 // n2} ')\n",
        "print(f'O resto da divisão dos numero é: {n1 % n2} ')\n",
        "print(f'A potência dos numero é: {n1 ** n2} ')"
      ],
      "metadata": {
        "colab": {
          "base_uri": "https://localhost:8080/"
        },
        "id": "9ZWEdxAFflsH",
        "outputId": "6dc62567-2245-445f-d3cd-5d4438bcb1a5"
      },
      "execution_count": 5,
      "outputs": [
        {
          "output_type": "stream",
          "name": "stdout",
          "text": [
            "A soma dos numero é: 14 \n",
            "A subtração dos numero é: -4 \n",
            "A multiplicação dos numero é: 45 \n",
            "A divisão dos numero é: 0.5555555555555556 \n",
            "A divisão inteira dos numero é: 0 \n",
            "O resto da divisão dos numero é: 5 \n",
            "A potência dos numero é: 1953125 \n"
          ]
        }
      ]
    },
    {
      "cell_type": "markdown",
      "source": [
        "# Operadores Relacionais (ou de Comparação):\n",
        "\n",
        "1. Igual a: ==  \n",
        "2. Diferente de: !=\n",
        "3. Maior que: >\n",
        "4. Maior ou igual a: >=\n",
        "5. Menor que: <\n",
        "6. Menor ou igual a: <="
      ],
      "metadata": {
        "id": "9i7syVeEfoUY"
      }
    },
    {
      "cell_type": "code",
      "source": [
        "ayra = 4\n",
        "aquilles = 14\n",
        "ryan = 17\n",
        "pietra = 15\n",
        "samella = 20\n",
        "\n",
        "print(f'A idade de Ayra é igual a do Aquilles? {ayra == aquilles}')\n",
        "print(f'A idade de Ayra é diferente da idade do Ryan? {ayra != ryan}')\n",
        "print(f'A idade da Samella é maior que a do Pietra? {samella > pietra}')\n",
        "print(f'A idade da Ayra é maior ou igual a idade do samella? {ayra >= samella}')\n",
        "print(f'A idade da Ryan e menor que a idade do Aquilles? {ryan < aquilles}')\n",
        "print(f'A idade da Ayra e menor ou igual a idade do pietra? {ayra <= aquilles}')"
      ],
      "metadata": {
        "colab": {
          "base_uri": "https://localhost:8080/"
        },
        "id": "oM9sy-SHgV7w",
        "outputId": "ad526e6c-0b99-40b2-d49c-0e161a3a01b0"
      },
      "execution_count": 9,
      "outputs": [
        {
          "output_type": "stream",
          "name": "stdout",
          "text": [
            "A idade de Ayra é igual a do Aquilles? False\n",
            "A idade de Ayra é diferente da idade do Ryan? True\n",
            "A idade da Samella é maior que a do Pietra? True\n",
            "A idade da Ayra é maior ou igual a idade do samella? False\n",
            "A idade da Ryan e menor que a idade do Aquilles? False\n",
            "A idade da Ayra e menor ou igual a idade do pietra? True\n"
          ]
        }
      ]
    },
    {
      "cell_type": "markdown",
      "source": [
        "# Operadores Lógicos:\n",
        "\n",
        "1. \"E\" lógico: and\n",
        "2. \"OU\" lógico: or\n",
        "3. \"Não\" lógico: not"
      ],
      "metadata": {
        "id": "4ilEfOWmgX-I"
      }
    },
    {
      "cell_type": "code",
      "source": [
        "ayra = 4\n",
        "aquilles = 14\n",
        "ryan = 17\n",
        "pietra = 15\n",
        "samella = 20\n",
        "\n",
        "#Operador \"and\"\n",
        "#Somente se todas as condições forem atendidas, o resultado sera verdadeiro.\n",
        "\n",
        "#Nesse exemplo,  se as duas condições as 2 condições são falsas, não antendendo as 2 condições o resultado e falso.\n",
        "print(f'A idade de Ayra e maior que a idade do Aquilles e do Ryan? {ayra > aquilles and ayra > ryan}')\n",
        "#Nesse exemplo, as duas condições são verdadeira, como as 2 condições foram atendidas, o resultado e verdadeiro.\n",
        "print(f'A idade de Ayra e menor que a idade do Samella e da Pietra? {ayra < samella and ayra < pietra}')\n",
        "#Nesse exemplo, uma das condições e verdadeira e a outra e falsa, como uma das condições não foi atendida, o resultado e falso.\n",
        "print(f'A idade de Ayra e igual que a idade do Ryan e da Samella? {ayra == samella and ayra != pietra}')\n",
        "print()\n",
        "\n",
        "#Operador \"or\"\n",
        "#Se 1 uma das condições forem atendidas, o resultado será verdadeiro.\n",
        "print(5*\"***\")\n",
        "#Nesse exemplo, as 2 condições são falsas, gerando resultado falso.\n",
        "print(f'o Ryan ou a Pietra são mais velhos que a Ayra? {ayra > ryan or ayra > pietra}')\n",
        "#Nesse exemplo, somente uma das condições são atendidas, gerando resultado verdadeiro.\n",
        "print(f'A Pietra e mais velha que o ryan e mais nova que a ayra? {pietra > ryan or pietra > ayra}')\n",
        "print()\n",
        "\n",
        "#Operador \"not\"\n",
        "#Ele sempre vai inverter os resultados.\n",
        "\n",
        "#No exemplo abaixo, na primeira linha, estamos usando o operador \"and\", onde as 2 condições são verdadeiras, gerando resultado verdadeiro, porém, na proxima linha, ultilizando o operador \"not\" o resultado e invertido.\n",
        "print(5*\"***\")\n",
        "inicio = print(f'A idade de Ayra e menor que a idade do Samella e da Pietra? {ayra < samella and ayra < pietra}')\n",
        "print(f'A idade de Ayra e menor que a idade do Samella e da Pietra? {not ayra < samella and ayra < pietra}')\n",
        "print()\n",
        "\n",
        "#No exemplo, termos uma expressão que retornaria o resultado falso, mas usando o operador not, o resultado foi auterado para verdadeiro.\n",
        "print(f'o Ryan ou a Pietra são mais velhos que a Ayra? {ayra > ryan or ayra > pietra}')\n",
        "print(f'o Ryan ou a Pietra são mais velhos que a Ayra? {not ayra > ryan or ayra > pietra}')\n",
        "print()\n",
        "print(5*\"***\")"
      ],
      "metadata": {
        "colab": {
          "base_uri": "https://localhost:8080/"
        },
        "id": "aLouyFQdgzTt",
        "outputId": "833fef7f-f9b6-45b6-d800-d709242dc3e5"
      },
      "execution_count": 40,
      "outputs": [
        {
          "output_type": "stream",
          "name": "stdout",
          "text": [
            "A idade de Ayra e maior que a idade do Aquilles e do Ryan? False\n",
            "A idade de Ayra e menor que a idade do Samella e da Pietra? True\n",
            "A idade de Ayra e igual que a idade do Ryan e da Samella? False\n",
            "\n",
            "***************\n",
            "o Ryan ou a Pietra são mais velhos que a Ayra? False\n",
            "A Pietra e mais velha que o ryan e mais nova que a ayra? True\n",
            "\n",
            "***************\n",
            "A idade de Ayra e menor que a idade do Samella e da Pietra? True\n",
            "A idade de Ayra e menor que a idade do Samella e da Pietra? False\n",
            "\n",
            "o Ryan ou a Pietra são mais velhos que a Ayra? False\n",
            "o Ryan ou a Pietra são mais velhos que a Ayra? True\n",
            "\n",
            "***************\n"
          ]
        }
      ]
    }
  ]
}