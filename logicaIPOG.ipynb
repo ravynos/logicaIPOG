{
  "nbformat": 4,
  "nbformat_minor": 0,
  "metadata": {
    "colab": {
      "provenance": [],
      "authorship_tag": "ABX9TyP8XpN8rEsbNwWc0UseYd5u",
      "include_colab_link": true
    },
    "kernelspec": {
      "name": "python3",
      "display_name": "Python 3"
    },
    "language_info": {
      "name": "python"
    }
  },
  "cells": [
    {
      "cell_type": "markdown",
      "metadata": {
        "id": "view-in-github",
        "colab_type": "text"
      },
      "source": [
        "<a href=\"https://colab.research.google.com/github/ravynos/logicaIPOG/blob/main/logicaIPOG.ipynb\" target=\"_parent\"><img src=\"https://colab.research.google.com/assets/colab-badge.svg\" alt=\"Open In Colab\"/></a>"
      ]
    },
    {
      "cell_type": "markdown",
      "source": [
        "# Tipos de dados"
      ],
      "metadata": {
        "id": "aXoBF-AZCteF"
      }
    },
    {
      "cell_type": "markdown",
      "source": [
        "int = Numero inteiro  \n",
        "Float = Ponto Flutuante (Numeros com casas decimais)  \n",
        "str = Palavras (String)  \n",
        "bool = Booleanos (Verdadeiro ou Falso)  "
      ],
      "metadata": {
        "id": "9iqaLR2dC2rR"
      }
    },
    {
      "cell_type": "code",
      "source": [
        "Idade = 4\n",
        "\n",
        "print(f'A idade de Ayra é {Idade}')\n",
        "print(type(Idade))"
      ],
      "metadata": {
        "colab": {
          "base_uri": "https://localhost:8080/"
        },
        "id": "K3zgKqwmEsLY",
        "outputId": "f51f77b9-789b-46d9-bc4e-fb77a38e948c"
      },
      "execution_count": null,
      "outputs": [
        {
          "output_type": "stream",
          "name": "stdout",
          "text": [
            "A idade de Ayra é 4/n\n",
            "<class 'int'>\n"
          ]
        }
      ]
    },
    {
      "cell_type": "code",
      "source": [
        "valor = 150.58\n",
        "\n",
        "print(f'O valor é {valor}')\n",
        "print(type(valor))"
      ],
      "metadata": {
        "colab": {
          "base_uri": "https://localhost:8080/"
        },
        "id": "nATd_c0BFJYU",
        "outputId": "552333d1-5ff2-43a4-ec50-164bd4c5f7d4"
      },
      "execution_count": null,
      "outputs": [
        {
          "output_type": "stream",
          "name": "stdout",
          "text": [
            "O valor é 150.58\n",
            "<class 'float'>\n"
          ]
        }
      ]
    },
    {
      "cell_type": "code",
      "source": [
        "jogos = 'Ghost of Tsushima'\n",
        "\n",
        "print(jogos)\n",
        "print(type(jogos))"
      ],
      "metadata": {
        "colab": {
          "base_uri": "https://localhost:8080/"
        },
        "id": "j6XgniB2Cwz7",
        "outputId": "82661fa5-43f4-4b48-d617-8e735e1c2620"
      },
      "execution_count": null,
      "outputs": [
        {
          "output_type": "stream",
          "name": "stdout",
          "text": [
            "Ghost of Tsushima\n",
            "<class 'str'>\n"
          ]
        }
      ]
    },
    {
      "cell_type": "code",
      "source": [
        "ativo = True\n",
        "\n",
        "print(ativo)\n",
        "print(type(ativo))"
      ],
      "metadata": {
        "colab": {
          "base_uri": "https://localhost:8080/"
        },
        "id": "rFMg58chFZXM",
        "outputId": "8e52e7d9-3874-49e3-c9e9-11e21de323bf"
      },
      "execution_count": null,
      "outputs": [
        {
          "output_type": "stream",
          "name": "stdout",
          "text": [
            "True\n",
            "<class 'bool'>\n"
          ]
        }
      ]
    },
    {
      "cell_type": "markdown",
      "source": [
        "# Comentario em Python"
      ],
      "metadata": {
        "id": "4TUqLWa0HLhI"
      }
    },
    {
      "cell_type": "code",
      "source": [
        "# Ao iniciar a linha com Hastag isso será considerado um comentario, isso faz com que esse trecho do codigo seja ignorado."
      ],
      "metadata": {
        "id": "k5W_0LGpHQiQ"
      },
      "execution_count": null,
      "outputs": []
    },
    {
      "cell_type": "markdown",
      "source": [
        "# Operadores Aritméticos:\n",
        "\n",
        "1. Adição: +  \n",
        "2. Subtração: -  \n",
        "3. Multiplicação: *  \n",
        "4. Divisão: /  \n",
        "5. Divisão Inteira: //\n",
        "6. Módulo: (Resto da divisão): %  \n",
        "7. Potencialização: **"
      ],
      "metadata": {
        "id": "gWd08Eyce8lh"
      }
    },
    {
      "cell_type": "code",
      "source": [
        "n1 = 5\n",
        "n2 = 9\n",
        "\n",
        "print(f'A soma dos numero é: {n1 + n2} ')\n",
        "print(f'A subtração dos numero é: {n1 - n2} ')\n",
        "print(f'A multiplicação dos numero é: {n1 * n2} ')\n",
        "print(f'A divisão dos numero é: {n1 / n2} ')\n",
        "print(f'A divisão inteira dos numero é: {n1 // n2} ')\n",
        "print(f'O resto da divisão dos numero é: {n1 % n2} ')\n",
        "print(f'A potência dos numero é: {n1 ** n2} ')"
      ],
      "metadata": {
        "colab": {
          "base_uri": "https://localhost:8080/"
        },
        "id": "9ZWEdxAFflsH",
        "outputId": "6dc62567-2245-445f-d3cd-5d4438bcb1a5"
      },
      "execution_count": null,
      "outputs": [
        {
          "output_type": "stream",
          "name": "stdout",
          "text": [
            "A soma dos numero é: 14 \n",
            "A subtração dos numero é: -4 \n",
            "A multiplicação dos numero é: 45 \n",
            "A divisão dos numero é: 0.5555555555555556 \n",
            "A divisão inteira dos numero é: 0 \n",
            "O resto da divisão dos numero é: 5 \n",
            "A potência dos numero é: 1953125 \n"
          ]
        }
      ]
    },
    {
      "cell_type": "markdown",
      "source": [
        "# Operadores Relacionais (ou de Comparação):\n",
        "\n",
        "1. Igual a: ==  \n",
        "2. Diferente de: !=\n",
        "3. Maior que: >\n",
        "4. Maior ou igual a: >=\n",
        "5. Menor que: <\n",
        "6. Menor ou igual a: <="
      ],
      "metadata": {
        "id": "9i7syVeEfoUY"
      }
    },
    {
      "cell_type": "code",
      "source": [
        "ayra = 4\n",
        "aquilles = 14\n",
        "ryan = 17\n",
        "pietra = 15\n",
        "samella = 20\n",
        "\n",
        "print(f'A idade de Ayra é igual a do Aquilles? {ayra == aquilles}')\n",
        "print(f'A idade de Ayra é diferente da idade do Ryan? {ayra != ryan}')\n",
        "print(f'A idade da Samella é maior que a do Pietra? {samella > pietra}')\n",
        "print(f'A idade da Ayra é maior ou igual a idade do samella? {ayra >= samella}')\n",
        "print(f'A idade da Ryan e menor que a idade do Aquilles? {ryan < aquilles}')\n",
        "print(f'A idade da Ayra e menor ou igual a idade do pietra? {ayra <= aquilles}')"
      ],
      "metadata": {
        "colab": {
          "base_uri": "https://localhost:8080/"
        },
        "id": "oM9sy-SHgV7w",
        "outputId": "ad526e6c-0b99-40b2-d49c-0e161a3a01b0"
      },
      "execution_count": null,
      "outputs": [
        {
          "output_type": "stream",
          "name": "stdout",
          "text": [
            "A idade de Ayra é igual a do Aquilles? False\n",
            "A idade de Ayra é diferente da idade do Ryan? True\n",
            "A idade da Samella é maior que a do Pietra? True\n",
            "A idade da Ayra é maior ou igual a idade do samella? False\n",
            "A idade da Ryan e menor que a idade do Aquilles? False\n",
            "A idade da Ayra e menor ou igual a idade do pietra? True\n"
          ]
        }
      ]
    },
    {
      "cell_type": "markdown",
      "source": [
        "# Operadores Lógicos:\n",
        "\n",
        "1. \"E\" lógico: and\n",
        "2. \"OU\" lógico: or\n",
        "3. \"Não\" lógico: not"
      ],
      "metadata": {
        "id": "4ilEfOWmgX-I"
      }
    },
    {
      "cell_type": "code",
      "source": [
        "ayra = 4\n",
        "aquilles = 14\n",
        "ryan = 17\n",
        "pietra = 15\n",
        "samella = 20\n",
        "\n",
        "#Operador \"and\"\n",
        "#Somente se todas as condições forem atendidas, o resultado sera verdadeiro.\n",
        "\n",
        "#Nesse exemplo,  se as duas condições as 2 condições são falsas, não antendendo as 2 condições o resultado e falso.\n",
        "print(f'A idade de Ayra e maior que a idade do Aquilles e do Ryan? {ayra > aquilles and ayra > ryan}')\n",
        "#Nesse exemplo, as duas condições são verdadeira, como as 2 condições foram atendidas, o resultado e verdadeiro.\n",
        "print(f'A idade de Ayra e menor que a idade do Samella e da Pietra? {ayra < samella and ayra < pietra}')\n",
        "#Nesse exemplo, uma das condições e verdadeira e a outra e falsa, como uma das condições não foi atendida, o resultado e falso.\n",
        "print(f'A idade de Ayra e igual que a idade do Ryan e da Samella? {ayra == samella and ayra != pietra}')\n",
        "print()\n",
        "\n",
        "#Operador \"or\"\n",
        "#Se 1 uma das condições forem atendidas, o resultado será verdadeiro.\n",
        "print(5*\"***\")\n",
        "#Nesse exemplo, as 2 condições são falsas, gerando resultado falso.\n",
        "print(f'o Ryan ou a Pietra são mais velhos que a Ayra? {ayra > ryan or ayra > pietra}')\n",
        "#Nesse exemplo, somente uma das condições são atendidas, gerando resultado verdadeiro.\n",
        "print(f'A Pietra e mais velha que o ryan e mais nova que a ayra? {pietra > ryan or pietra > ayra}')\n",
        "print()\n",
        "\n",
        "#Operador \"not\"\n",
        "#Ele sempre vai inverter os resultados.\n",
        "\n",
        "#No exemplo abaixo, na primeira linha, estamos usando o operador \"and\", onde as 2 condições são verdadeiras, gerando resultado verdadeiro, porém, na proxima linha, ultilizando o operador \"not\" o resultado e invertido.\n",
        "print(5*\"***\")\n",
        "inicio = print(f'A idade de Ayra e menor que a idade do Samella e da Pietra? {ayra < samella and ayra < pietra}')\n",
        "print(f'A idade de Ayra e menor que a idade do Samella e da Pietra? {not ayra < samella and ayra < pietra}')\n",
        "print()\n",
        "\n",
        "#No exemplo, termos uma expressão que retornaria o resultado falso, mas usando o operador not, o resultado foi auterado para verdadeiro.\n",
        "print(f'o Ryan ou a Pietra são mais velhos que a Ayra? {ayra > ryan or ayra > pietra}')\n",
        "print(f'o Ryan ou a Pietra são mais velhos que a Ayra? {not ayra > ryan or ayra > pietra}')\n",
        "print()\n",
        "print(5*\"***\")"
      ],
      "metadata": {
        "colab": {
          "base_uri": "https://localhost:8080/"
        },
        "id": "aLouyFQdgzTt",
        "outputId": "833fef7f-f9b6-45b6-d800-d709242dc3e5"
      },
      "execution_count": null,
      "outputs": [
        {
          "output_type": "stream",
          "name": "stdout",
          "text": [
            "A idade de Ayra e maior que a idade do Aquilles e do Ryan? False\n",
            "A idade de Ayra e menor que a idade do Samella e da Pietra? True\n",
            "A idade de Ayra e igual que a idade do Ryan e da Samella? False\n",
            "\n",
            "***************\n",
            "o Ryan ou a Pietra são mais velhos que a Ayra? False\n",
            "A Pietra e mais velha que o ryan e mais nova que a ayra? True\n",
            "\n",
            "***************\n",
            "A idade de Ayra e menor que a idade do Samella e da Pietra? True\n",
            "A idade de Ayra e menor que a idade do Samella e da Pietra? False\n",
            "\n",
            "o Ryan ou a Pietra são mais velhos que a Ayra? False\n",
            "o Ryan ou a Pietra são mais velhos que a Ayra? True\n",
            "\n",
            "***************\n"
          ]
        }
      ]
    },
    {
      "cell_type": "markdown",
      "source": [
        "# Comandos de entrada e saída\n",
        "\n"
      ],
      "metadata": {
        "id": "nOQTVMVtnHXC"
      }
    },
    {
      "cell_type": "markdown",
      "source": [
        "Comando de entrada: Comando input()"
      ],
      "metadata": {
        "id": "EP-xMjQIsX4m"
      }
    },
    {
      "cell_type": "code",
      "source": [
        "#O comando input por si, vai abrir um campo solicitando que o usuário realizei a digitação de algo.\n",
        "input()\n",
        "\n",
        "#Ele pode ser usando junto uma string para realizar a pergunta a um usuário.\n",
        "input(\"Qual seu nome?\")\n",
        "print()\n",
        "\n",
        "#Mas também e possível associoar a uma variavel para armazenar o valor que o usuario vai digitar no campo, no qual pode ser usado em outro contexto do codigo.\n",
        "idade = input(\"Qual a sua idade?\")\n",
        "print(idade)\n",
        "print()\n",
        "\n",
        "#Sem tratamento, o resultado sempre vai ser tipado como uma string.\n",
        "type(idade)\n",
        "\n",
        "#E possível então, realizar a tratativa dessa informação, realizando uma conversão de tipo.\n",
        "altura = float(input('Qual sua altura?'))\n",
        "print(altura)\n",
        "print()\n",
        "print(type(altura))"
      ],
      "metadata": {
        "colab": {
          "base_uri": "https://localhost:8080/"
        },
        "id": "N0HNb9XRnK0A",
        "outputId": "f85acd24-acae-4adf-a1df-1ae5e5a6a9be"
      },
      "execution_count": null,
      "outputs": [
        {
          "output_type": "stream",
          "name": "stdout",
          "text": [
            "\n",
            "Qual seu nome?Thiago\n",
            "\n",
            "Qual a sua idade?37\n",
            "37\n",
            "\n",
            "Qual sua altura?1.86\n",
            "1.86\n",
            "\n",
            "<class 'float'>\n"
          ]
        }
      ]
    },
    {
      "cell_type": "markdown",
      "source": [
        "Comando de saida: print()"
      ],
      "metadata": {
        "id": "KQXNsdkHsc6u"
      }
    },
    {
      "cell_type": "code",
      "source": [
        "#o Comando print, vai ser responsavel por imprimir na tela, o que for inserido como parametro dentro dentro dos parenteses.\n",
        "print(\"Bem vindo, estou imprimindo na tela o que você me pediu.\")\n",
        "print()\n",
        "\n",
        "#Mas podemos ir além, e usar outros metodos para incrementar o que e escrito na tela, como imprimir o que está dentro de uma variavel.\n",
        "nome = \"Thiago\"\n",
        "print(nome)\n",
        "print()\n",
        "\n",
        "#podemos também, incrementar o que esta sendo exibido.\n",
        "print('Meu nome é: ' + nome)\n",
        "print()\n",
        "\n",
        "#Melhor ainda, podmeos usar a interpolação de strings, para facilitar ainda mais a insersão de variavies entro de um print, combinando partes de texto, com variaves.\n",
        "#para isso, no inicio antes das aspas vamos inserir o comando \"f\" fazendo com que tudo apartir dali que for inserir dentro dos colchetes {} seja reconhecido como uma variavel.\n",
        "print(f\"Olá, meu nome é {nome}.\")"
      ],
      "metadata": {
        "colab": {
          "base_uri": "https://localhost:8080/"
        },
        "id": "NlzIrXvisg6a",
        "outputId": "098cba4d-b113-42aa-aab8-2c8a616c01c9"
      },
      "execution_count": null,
      "outputs": [
        {
          "output_type": "stream",
          "name": "stdout",
          "text": [
            "Bem vindo, estou imprimindo na tela o que você me pediu.\n",
            "\n",
            "Thiago\n",
            "\n",
            "Meu nome é: Thiago\n",
            "\n",
            "Olá, meu nome é Thiago.\n"
          ]
        }
      ]
    },
    {
      "cell_type": "code",
      "source": [
        "#Abaixo vou dar alguns exemplos das 2 funções sendo usadas em conjunto.\n",
        "nome = input(\"Qual seu nome? \")\n",
        "idade = input(\"Qual sua idade? \")\n",
        "altura = float(input(\"Qual a sua altura \"))\n",
        "peso = float(input(\"Qual seu peso? \"))\n",
        "\n",
        "print(f'Olá {nome}, vi aqui que você tem {idade} anos de idade, tem {altura} metros e seu peso é {peso} kilos, se me permitir vou realizar o seu calculo de imc {round(peso*(altura*2), 2)}')"
      ],
      "metadata": {
        "colab": {
          "base_uri": "https://localhost:8080/"
        },
        "id": "jVkes4RTwe2S",
        "outputId": "9d4ce44f-405c-45ec-b506-39d0ff5f7a99"
      },
      "execution_count": null,
      "outputs": [
        {
          "output_type": "stream",
          "name": "stdout",
          "text": [
            "Qual seu nome?Thiago\n",
            "Qual sua idade?37\n",
            "Qual a sua altura1.86\n",
            "Qual seu peso?97\n",
            "Olá Thiago, vi aqui que você tem 37 anos de idade, tem 1.86 metros e seu peso é 97.0 kilos, se me permitir vou realizar o seu calculo de imc 360.84\n"
          ]
        }
      ]
    },
    {
      "cell_type": "markdown",
      "source": [
        "# Estruturas condicionais"
      ],
      "metadata": {
        "id": "fcr-OambqK7F"
      }
    },
    {
      "cell_type": "markdown",
      "source": [
        "## Estrutura condicional simples\n",
        "\n",
        "if = se  \n",
        "else = senão"
      ],
      "metadata": {
        "id": "m8aEWYe6qSnL"
      }
    },
    {
      "cell_type": "code",
      "source": [
        "#Com os comandos acima, posso criar um sistema que atenda condições.\n",
        "#if (se) = Se a condição atribuida for atendida, tudo que vier abaixo será executado\n",
        "#else (senão) = se a condição atribuida não for atendida, o que está baixo vai ser executado.\n",
        "\n",
        "#O programa abaixo, vai fazer o calculo de notas escolares e vai informar na tela, se a media  foi ou não atendida para aprovação do aluno.\n",
        "\n",
        "#Foi definido nas variaveis abaixo, as notas do aluno.\n",
        "nota1 = 5.3\n",
        "nota2 = 8.9\n",
        "nota3 = 7.1\n",
        "nota4 = 5\n",
        "#Nessa variavel, foi definido o calculo da media, onde foi somado todas as notas, entre parenteses para cumprir a ordem de procedencia forçando a soma a ser realizada primeiro, depois dividindo a soma pela quantidade de notas.\n",
        "media_total = round((nota1 + nota2 + nota3 + nota4)/4, 2)\n",
        "\n",
        "#Nesse bloco foi definido que caso a media da nota seja maior que 7, o sistema deve apresentar a mensagem com valor da media, e depois uma mensagem informando a aprovação.\n",
        "if media_total > 7:\n",
        "  print(f\"Sua media foi {media_total}. Parabens você foi aprovado.\")\n",
        "#Aqui foi definido que caso a condição acima não seja atendida, o trecho abaixo deve ser executado, informando a media das notas, e uma mensagem informando a reprovação.\n",
        "else:\n",
        "  print(f\"Sua media foi {media_total}. Você foi reprovado.\")"
      ],
      "metadata": {
        "colab": {
          "base_uri": "https://localhost:8080/"
        },
        "id": "rA_6Aif7qWeL",
        "outputId": "6769693c-69cb-4ed9-ec2b-2c2427e20bf1"
      },
      "execution_count": null,
      "outputs": [
        {
          "output_type": "stream",
          "name": "stdout",
          "text": [
            "Sua media foi 6.57. Você foi reprovado.\n"
          ]
        }
      ]
    },
    {
      "cell_type": "markdown",
      "source": [
        "## Estrutura condicional composta.\n",
        "\n",
        "elif = se senão"
      ],
      "metadata": {
        "id": "3vpIHBdoR_I0"
      }
    },
    {
      "cell_type": "code",
      "source": [
        "#elif permite que você realize uma estrutura condicional, com algumas vantagens além do if, além de tornar o codigo mais amigavel é facil de ler,\n",
        "#também, ao ultilizar novovamente o if para novas condições, o python fará a leitura de cada condição antes de dar a resposta, tornando o codigo mais lento.\n",
        "#no caso do elif, o codigo não e mais executado, apartir do momento que uma condição e atendida, o resto do bloco não será mais executado.\n",
        "\n",
        "#no exemplo a seguir, vamos avaliar o ano de fabricação de um carro, e definir se ele vai ou não atender o requisito do nosso cliente.\n",
        "\n",
        "carro = 2015\n",
        "\n",
        "if carro >= 2012 and carro <=2017:\n",
        "  print('Esse carro atendende sua nescessidade.')\n",
        "elif carro >= 2018:\n",
        "  print('Esse carro e muito novo.')\n",
        "else:\n",
        "  print('Esse carro e muito antigo.')"
      ],
      "metadata": {
        "id": "M204TtqVSEj8",
        "colab": {
          "base_uri": "https://localhost:8080/"
        },
        "outputId": "4f47ec56-cde4-4de9-eefc-ab41a7b87191"
      },
      "execution_count": 5,
      "outputs": [
        {
          "output_type": "stream",
          "name": "stdout",
          "text": [
            "Esse carro atendende sua nescessidade.\n"
          ]
        }
      ]
    }
  ]
}