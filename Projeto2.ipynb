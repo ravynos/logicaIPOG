{
  "nbformat": 4,
  "nbformat_minor": 0,
  "metadata": {
    "colab": {
      "provenance": [],
      "authorship_tag": "ABX9TyNUAGUqkNL0SevrwE9HX6DD",
      "include_colab_link": true
    },
    "kernelspec": {
      "name": "python3",
      "display_name": "Python 3"
    },
    "language_info": {
      "name": "python"
    }
  },
  "cells": [
    {
      "cell_type": "markdown",
      "metadata": {
        "id": "view-in-github",
        "colab_type": "text"
      },
      "source": [
        "<a href=\"https://colab.research.google.com/github/ravynos/logicaIPOG/blob/main/Projeto2.ipynb\" target=\"_parent\"><img src=\"https://colab.research.google.com/assets/colab-badge.svg\" alt=\"Open In Colab\"/></a>"
      ]
    },
    {
      "cell_type": "markdown",
      "source": [
        "Projeto de Algoritimo 2\n",
        "\n",
        "Calculo de media.\n",
        "\n",
        "Regras\n",
        "Aprovador -> média >= 7  \n",
        "Recuperação -> média >= 5 é média < 7  \n",
        "Reprovado -> média < 5  "
      ],
      "metadata": {
        "id": "KMuxvKOTsNFh"
      }
    },
    {
      "cell_type": "code",
      "execution_count": 4,
      "metadata": {
        "colab": {
          "base_uri": "https://localhost:8080/"
        },
        "id": "-j-FUH_Vr7So",
        "outputId": "66619416-f477-40f6-932f-aa5bff48548f"
      },
      "outputs": [
        {
          "output_type": "stream",
          "name": "stdout",
          "text": [
            "Insira a nota 1: 1\n",
            "Insira a nota 2: 1\n",
            "Insira a nota 3: 1\n",
            "Insira a nota 4: 1\n",
            "\n",
            "Sua média é 1.0: Aluno reprovado\n"
          ]
        }
      ],
      "source": [
        "notas = []\n",
        "\n",
        "for indice in range(4):\n",
        "  notas.append(float(input(f'Insira a nota {indice + 1}: ')))\n",
        "\n",
        "\n",
        "soma = 0\n",
        "for indice in range(4):\n",
        "  soma += notas[indice]\n",
        "\n",
        "media = soma/4\n",
        "\n",
        "if media >= 7:\n",
        "  print()\n",
        "  print(f'Sua média é {media}: Aluno aprovado.')\n",
        "elif media >= 5 and media < 7:\n",
        "  print()\n",
        "  print(f'Sua média é {media}: Aluno de recuperação')\n",
        "else:\n",
        "  print()\n",
        "  print(f'Sua média é {media}: Aluno reprovado')"
      ]
    }
  ]
}