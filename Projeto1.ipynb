{
  "nbformat": 4,
  "nbformat_minor": 0,
  "metadata": {
    "colab": {
      "provenance": [],
      "authorship_tag": "ABX9TyN4K9TeLLYnWXn8DqdCBwWQ",
      "include_colab_link": true
    },
    "kernelspec": {
      "name": "python3",
      "display_name": "Python 3"
    },
    "language_info": {
      "name": "python"
    }
  },
  "cells": [
    {
      "cell_type": "markdown",
      "metadata": {
        "id": "view-in-github",
        "colab_type": "text"
      },
      "source": [
        "<a href=\"https://colab.research.google.com/github/ravynos/logicaIPOG/blob/main/Projeto1.ipynb\" target=\"_parent\"><img src=\"https://colab.research.google.com/assets/colab-badge.svg\" alt=\"Open In Colab\"/></a>"
      ]
    },
    {
      "cell_type": "markdown",
      "source": [
        "# Projeto de algoritimo 1\n",
        "\n",
        "$a_n = a_1 + (n-1)r$"
      ],
      "metadata": {
        "id": "PWZXD7zdhka0"
      }
    },
    {
      "cell_type": "code",
      "execution_count": 5,
      "metadata": {
        "colab": {
          "base_uri": "https://localhost:8080/"
        },
        "id": "gtpMUENpfmju",
        "outputId": "4ed1be9b-3c6b-4977-8351-b4b16a8c2b0d"
      },
      "outputs": [
        {
          "output_type": "stream",
          "name": "stdout",
          "text": [
            "Digite o limite inferior: 1\n",
            "Digite o limite superior: 10\n",
            "O valor de a_1 é: 2\n",
            "O valor de a_2 é: 4\n",
            "O valor de a_3 é: 6\n",
            "O valor de a_4 é: 8\n",
            "O valor de a_5 é: 10\n",
            "O valor de a_6 é: 12\n",
            "O valor de a_7 é: 14\n",
            "O valor de a_8 é: 16\n",
            "O valor de a_9 é: 18\n"
          ]
        }
      ],
      "source": [
        "limite_inferior = int(input('Digite o limite inferior: '))\n",
        "limite_superior = int(input('Digite o limite superior: '))\n",
        "\n",
        "if limite_inferior > limite_superior:\n",
        "  print('O limite inferior não pode ser maior do que o limite superior')\n",
        "else:\n",
        "  for n in range(limite_inferior, limite_superior):\n",
        "    an = 2 + (n-1)*2\n",
        "    print(f'O valor de a_{n} é: {an}')"
      ]
    }
  ]
}